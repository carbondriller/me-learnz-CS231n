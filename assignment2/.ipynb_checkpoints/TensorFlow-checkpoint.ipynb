{
 "cells": [
  {
   "cell_type": "markdown",
   "metadata": {},
   "source": [
    "## What's this TensorFlow business?\n",
    "\n",
    "You've written a lot of code in this assignment to provide a whole host of neural network functionality. Dropout, Batch Norm, and 2D convolutions are some of the workhorses of deep learning in computer vision. You've also worked hard to make your code efficient and vectorized.\n",
    "\n",
    "For the last part of this assignment, though, we're going to leave behind your beautiful codebase and instead migrate to one of two popular deep learning frameworks: in this instance, TensorFlow (or PyTorch, if you switch over to that notebook)\n",
    "\n",
    "#### What is it?\n",
    "TensorFlow is a system for executing computational graphs over Tensor objects, with native support for performing backpropogation for its Variables. In it, we work with Tensors which are n-dimensional arrays analogous to the numpy ndarray.\n",
    "\n",
    "#### Why?\n",
    "\n",
    "* Our code will now run on GPUs! Much faster training. Writing your own modules to run on GPUs is beyond the scope of this class, unfortunately.\n",
    "* We want you to be ready to use one of these frameworks for your project so you can experiment more efficiently than if you were writing every feature you want to use by hand. \n",
    "* We want you to stand on the shoulders of giants! TensorFlow and PyTorch are both excellent frameworks that will make your lives a lot easier, and now that you understand their guts, you are free to use them :) \n",
    "* We want you to be exposed to the sort of deep learning code you might run into in academia or industry. "
   ]
  },
  {
   "cell_type": "markdown",
   "metadata": {},
   "source": [
    "## How will I learn TensorFlow?\n",
    "\n",
    "TensorFlow has many excellent tutorials available, including those from [Google themselves](https://www.tensorflow.org/get_started/get_started).\n",
    "\n",
    "Otherwise, this notebook will walk you through much of what you need to do to train models in TensorFlow. See the end of the notebook for some links to helpful tutorials if you want to learn more or need further clarification on topics that aren't fully explained here."
   ]
  },
  {
   "cell_type": "markdown",
   "metadata": {},
   "source": [
    "## Load Datasets\n"
   ]
  },
  {
   "cell_type": "code",
   "execution_count": 1,
   "metadata": {
    "collapsed": true
   },
   "outputs": [],
   "source": [
    "import tensorflow as tf\n",
    "import numpy as np\n",
    "import math\n",
    "import timeit\n",
    "import matplotlib.pyplot as plt\n",
    "%matplotlib inline"
   ]
  },
  {
   "cell_type": "code",
   "execution_count": 2,
   "metadata": {},
   "outputs": [
    {
     "name": "stdout",
     "output_type": "stream",
     "text": [
      "Train data shape:  (49000, 32, 32, 3)\n",
      "Train labels shape:  (49000,)\n",
      "Validation data shape:  (1000, 32, 32, 3)\n",
      "Validation labels shape:  (1000,)\n",
      "Test data shape:  (10000, 32, 32, 3)\n",
      "Test labels shape:  (10000,)\n"
     ]
    }
   ],
   "source": [
    "from cs231n.data_utils import load_CIFAR10\n",
    "\n",
    "def get_CIFAR10_data(num_training=49000, num_validation=1000, num_test=10000):\n",
    "    \"\"\"\n",
    "    Load the CIFAR-10 dataset from disk and perform preprocessing to prepare\n",
    "    it for the two-layer neural net classifier. These are the same steps as\n",
    "    we used for the SVM, but condensed to a single function.  \n",
    "    \"\"\"\n",
    "    # Load the raw CIFAR-10 data\n",
    "    cifar10_dir = 'cs231n/datasets/cifar-10-batches-py'\n",
    "    X_train, y_train, X_test, y_test = load_CIFAR10(cifar10_dir)\n",
    "\n",
    "    # Subsample the data\n",
    "    mask = range(num_training, num_training + num_validation)\n",
    "    X_val = X_train[mask]\n",
    "    y_val = y_train[mask]\n",
    "    mask = range(num_training)\n",
    "    X_train = X_train[mask]\n",
    "    y_train = y_train[mask]\n",
    "    mask = range(num_test)\n",
    "    X_test = X_test[mask]\n",
    "    y_test = y_test[mask]\n",
    "\n",
    "    # Normalize the data: subtract the mean image\n",
    "    mean_image = np.mean(X_train, axis=0)\n",
    "    X_train -= mean_image\n",
    "    X_val -= mean_image\n",
    "    X_test -= mean_image\n",
    "\n",
    "    return X_train, y_train, X_val, y_val, X_test, y_test\n",
    "\n",
    "\n",
    "# Invoke the above function to get our data.\n",
    "X_train, y_train, X_val, y_val, X_test, y_test = get_CIFAR10_data()\n",
    "print('Train data shape: ', X_train.shape)\n",
    "print('Train labels shape: ', y_train.shape)\n",
    "print('Validation data shape: ', X_val.shape)\n",
    "print('Validation labels shape: ', y_val.shape)\n",
    "print('Test data shape: ', X_test.shape)\n",
    "print('Test labels shape: ', y_test.shape)"
   ]
  },
  {
   "cell_type": "markdown",
   "metadata": {},
   "source": [
    "## Example Model\n",
    "\n",
    "### Some useful utilities\n",
    "\n",
    ". Remember that our image data is initially N x H x W x C, where:\n",
    "* N is the number of datapoints\n",
    "* H is the height of each image in pixels\n",
    "* W is the height of each image in pixels\n",
    "* C is the number of channels (usually 3: R, G, B)\n",
    "\n",
    "This is the right way to represent the data when we are doing something like a 2D convolution, which needs spatial understanding of where the pixels are relative to each other. When we input image data into fully connected affine layers, however, we want each data example to be represented by a single vector -- it's no longer useful to segregate the different channels, rows, and columns of the data."
   ]
  },
  {
   "cell_type": "markdown",
   "metadata": {},
   "source": [
    "### The example model itself\n",
    "\n",
    "The first step to training your own model is defining its architecture.\n",
    "\n",
    "Here's an example of a convolutional neural network defined in TensorFlow -- try to understand what each line is doing, remembering that each layer is composed upon the previous layer. We haven't trained anything yet - that'll come next - for now, we want you to understand how everything gets set up. \n",
    "\n",
    "In that example, you see 2D convolutional layers (Conv2d), ReLU activations, and fully-connected layers (Linear). You also see the Hinge loss function, and the Adam optimizer being used. \n",
    "\n",
    "Make sure you understand why the parameters of the Linear layer are 5408 and 10.\n",
    "\n",
    "`###############################################################################`\n",
    "\n",
    "**ANSWER:** Output volume dimensions for 'VALID' padding (https://www.tensorflow.org/api_guides/python/nn#Convolution):\n",
    "\n",
    "```python\n",
    "out_height = ceil(float(in_height - filter_height + 1) / float(strides[1])) = ceil((32 - 7 + 1) / 2) = ceil(13) = 13\n",
    "out_width  = ceil(float(in_width - filter_width + 1) / float(strides[2])) = ceil((32 - 7 + 1) / 2) = ceil(13) = 13\n",
    "```\n",
    "\n",
    "From this: **`13*13*32 = 5408`**.\n",
    "\n",
    "**10** is the chosen hidden size which corresponds to the 10 classes.\n",
    "\n",
    "`###############################################################################`\n",
    "\n",
    "### TensorFlow Details\n",
    "In TensorFlow, much like in our previous notebooks, we'll first specifically initialize our variables, and then our network model."
   ]
  },
  {
   "cell_type": "code",
   "execution_count": 4,
   "metadata": {
    "collapsed": true
   },
   "outputs": [],
   "source": [
    "# clear old variables\n",
    "tf.reset_default_graph()\n",
    "\n",
    "# setup input (e.g. the data that changes every batch)\n",
    "# The first dim is None, and gets sets automatically based on batch size fed in\n",
    "X = tf.placeholder(tf.float32, [None, 32, 32, 3])\n",
    "y = tf.placeholder(tf.int64, [None])\n",
    "is_training = tf.placeholder(tf.bool)\n",
    "\n",
    "def simple_model(X,y):\n",
    "    # define our weights (e.g. init_two_layer_convnet)\n",
    "    \n",
    "    # setup variables\n",
    "    Wconv1 = tf.get_variable(\"Wconv1\", shape=[7, 7, 3, 32])\n",
    "    bconv1 = tf.get_variable(\"bconv1\", shape=[32])\n",
    "    W1 = tf.get_variable(\"W1\", shape=[5408, 10])\n",
    "    b1 = tf.get_variable(\"b1\", shape=[10])\n",
    "\n",
    "    # define our graph (e.g. two_layer_convnet)\n",
    "    a1 = tf.nn.conv2d(X, Wconv1, strides=[1,2,2,1], padding='VALID') + bconv1\n",
    "    h1 = tf.nn.relu(a1)\n",
    "    h1_flat = tf.reshape(h1,[-1,5408])\n",
    "    y_out = tf.matmul(h1_flat,W1) + b1\n",
    "    return y_out\n",
    "\n",
    "y_out = simple_model(X,y)\n",
    "\n",
    "# define our loss\n",
    "total_loss = tf.losses.hinge_loss(tf.one_hot(y,10),logits=y_out)\n",
    "mean_loss = tf.reduce_mean(total_loss)\n",
    "\n",
    "# define our optimizer\n",
    "optimizer = tf.train.AdamOptimizer(5e-4) # select optimizer and set learning rate\n",
    "train_step = optimizer.minimize(mean_loss)"
   ]
  },
  {
   "cell_type": "markdown",
   "metadata": {},
   "source": [
    "TensorFlow supports many other layer types, loss functions, and optimizers - you will experiment with these next. Here's the official API documentation for these (if any of the parameters used above were unclear, this resource will also be helpful). \n",
    "\n",
    "* Layers, Activations, Loss functions : https://www.tensorflow.org/api_guides/python/nn\n",
    "* Optimizers: https://www.tensorflow.org/api_guides/python/train#Optimizers\n",
    "* BatchNorm: https://www.tensorflow.org/api_docs/python/tf/layers/batch_normalization"
   ]
  },
  {
   "cell_type": "markdown",
   "metadata": {},
   "source": [
    "### Training the model on one epoch\n",
    "While we have defined a graph of operations above, in order to execute TensorFlow Graphs, by feeding them input data and computing the results, we first need to create a `tf.Session` object. A session encapsulates the control and state of the TensorFlow runtime. For more information, see the TensorFlow [Getting started](https://www.tensorflow.org/get_started/get_started) guide.\n",
    "\n",
    "Optionally we can also specify a device context such as `/cpu:0` or `/gpu:0`. For documentation on this behavior see [this TensorFlow guide](https://www.tensorflow.org/tutorials/using_gpu)\n",
    "\n",
    "You should see a validation loss of around 0.4 to 0.6 and an accuracy of 0.30 to 0.35 below"
   ]
  },
  {
   "cell_type": "code",
   "execution_count": 5,
   "metadata": {},
   "outputs": [
    {
     "name": "stdout",
     "output_type": "stream",
     "text": [
      "Training\n",
      "Iteration 0: with minibatch training loss = 11 and accuracy of 0.14\n",
      "Iteration 100: with minibatch training loss = 1.13 and accuracy of 0.25\n",
      "Iteration 200: with minibatch training loss = 0.632 and accuracy of 0.34\n",
      "Iteration 300: with minibatch training loss = 0.692 and accuracy of 0.23\n",
      "Iteration 400: with minibatch training loss = 0.519 and accuracy of 0.36\n",
      "Iteration 500: with minibatch training loss = 0.556 and accuracy of 0.36\n",
      "Iteration 600: with minibatch training loss = 0.5 and accuracy of 0.31\n",
      "Iteration 700: with minibatch training loss = 0.503 and accuracy of 0.33\n",
      "Epoch 1, Overall loss = 0.751 and accuracy of 0.313\n"
     ]
    },
    {
     "data": {
      "image/png": "[encoded data removed]",
      "text/plain": [
       "<matplotlib.figure.Figure at 0x4ab59e8>"
      ]
     },
     "metadata": {},
     "output_type": "display_data"
    },
    {
     "name": "stdout",
     "output_type": "stream",
     "text": [
      "Validation\n",
      "Epoch 1, Overall loss = 0.467 and accuracy of 0.343\n"
     ]
    }
   ],
   "source": [
    "def run_model(session, predict, loss_val, Xd, yd,\n",
    "              epochs=1, batch_size=64, print_every=100,\n",
    "              training=None, plot_losses=False):\n",
    "    # have tensorflow compute accuracy\n",
    "    correct_prediction = tf.equal(tf.argmax(predict,1), y)\n",
    "    accuracy = tf.reduce_mean(tf.cast(correct_prediction, tf.float32))\n",
    "    \n",
    "    # shuffle indicies\n",
    "    train_indicies = np.arange(Xd.shape[0])\n",
    "    np.random.shuffle(train_indicies)\n",
    "\n",
    "    training_now = training is not None\n",
    "    \n",
    "    # setting up variables we want to compute (and optimizing)\n",
    "    # if we have a training function, add that to things we compute\n",
    "    variables = [mean_loss,correct_prediction,accuracy]\n",
    "    if training_now:\n",
    "        variables[-1] = training\n",
    "    \n",
    "    # counter \n",
    "    iter_cnt = 0\n",
    "    for e in range(epochs):\n",
    "        # keep track of losses and accuracy\n",
    "        correct = 0\n",
    "        losses = []\n",
    "        # make sure we iterate over the dataset once\n",
    "        for i in range(int(math.ceil(Xd.shape[0]/batch_size))):\n",
    "            # generate indicies for the batch\n",
    "            start_idx = (i*batch_size)%Xd.shape[0]\n",
    "            idx = train_indicies[start_idx:start_idx+batch_size]\n",
    "            \n",
    "            # create a feed dictionary for this batch\n",
    "            feed_dict = {X: Xd[idx,:],\n",
    "                         y: yd[idx],\n",
    "                         is_training: training_now }\n",
    "            # get batch size\n",
    "            actual_batch_size = yd[idx].shape[0]\n",
    "            \n",
    "            # have tensorflow compute loss and correct predictions\n",
    "            # and (if given) perform a training step\n",
    "            loss, corr, _ = session.run(variables,feed_dict=feed_dict)\n",
    "            \n",
    "            # aggregate performance stats\n",
    "            losses.append(loss*actual_batch_size)\n",
    "            correct += np.sum(corr)\n",
    "            \n",
    "            # print every now and then\n",
    "            if training_now and (iter_cnt % print_every) == 0:\n",
    "                print(\"Iteration {0}: with minibatch training loss = {1:.3g} and accuracy of {2:.2g}\"\\\n",
    "                      .format(iter_cnt,loss,np.sum(corr)/actual_batch_size))\n",
    "            iter_cnt += 1\n",
    "        total_correct = correct/Xd.shape[0]\n",
    "        total_loss = np.sum(losses)/Xd.shape[0]\n",
    "        print(\"Epoch {2}, Overall loss = {0:.3g} and accuracy of {1:.3g}\"\\\n",
    "              .format(total_loss,total_correct,e+1))\n",
    "        if plot_losses:\n",
    "            plt.plot(losses)\n",
    "            plt.grid(True)\n",
    "            plt.title('Epoch {} Loss'.format(e+1))\n",
    "            plt.xlabel('minibatch number')\n",
    "            plt.ylabel('minibatch loss')\n",
    "            plt.show()\n",
    "    return total_loss,total_correct\n",
    "\n",
    "with tf.Session() as sess:\n",
    "    with tf.device(\"/cpu:0\"): #\"/cpu:0\" or \"/gpu:0\" \n",
    "        sess.run(tf.global_variables_initializer())\n",
    "        print('Training')\n",
    "        run_model(sess,y_out,mean_loss,X_train,y_train,1,64,100,train_step,True)\n",
    "        print('Validation')\n",
    "        run_model(sess,y_out,mean_loss,X_val,y_val,1,64)"
   ]
  },
  {
   "cell_type": "markdown",
   "metadata": {},
   "source": [
    "## Training a specific model\n",
    "\n",
    "In this section, we're going to specify a model for you to construct. The goal here isn't to get good performance (that'll be next), but instead to get comfortable with understanding the TensorFlow documentation and configuring your own model. \n",
    "\n",
    "Using the code provided above as guidance, and using the following TensorFlow documentation, specify a model with the following architecture:\n",
    "\n",
    "* 7x7 Convolutional Layer with 32 filters and stride of 1\n",
    "* ReLU Activation Layer\n",
    "* Spatial Batch Normalization Layer (trainable parameters, with scale and centering)\n",
    "* 2x2 Max Pooling layer with a stride of 2\n",
    "* Affine layer with 1024 output units\n",
    "* ReLU Activation Layer\n",
    "* Affine layer from 1024 input units to 10 outputs\n",
    "\n"
   ]
  },
  {
   "cell_type": "code",
   "execution_count": 26,
   "metadata": {},
   "outputs": [],
   "source": [
    "# clear old variables\n",
    "tf.reset_default_graph()\n",
    "\n",
    "# define our input (e.g. the data that changes every batch)\n",
    "# The first dim is None, and gets sets automatically based on batch size fed in\n",
    "X = tf.placeholder(tf.float32, [None, 32, 32, 3])\n",
    "y = tf.placeholder(tf.int64, [None])\n",
    "is_training = tf.placeholder(tf.bool)\n",
    "\n",
    "# define model\n",
    "def complex_model(X,y,is_training):\n",
    "    # (1) Conv -> BN -> ReLU -> Max Pool\n",
    "    W1conv = tf.get_variable(\"W1conv\", shape=[7, 7, 3, 32])\n",
    "    b1conv = tf.get_variable(\"b1conv\", shape=[32])\n",
    "    # Conv layer (32 filters of size 7x7, S = 1)\n",
    "    # Output shape (N, 26, 26, 32) because (32-7+1) / 1 = 26\n",
    "    h1_conv = tf.nn.conv2d(X, W1conv, strides=[1,1,1,1], padding='VALID') + b1conv        \n",
    "    # Spatial batchnorm (trainable parameters, with scale and centering)\n",
    "    h1_bn = tf.layers.batch_normalization(h1_conv, training=is_training)    \n",
    "    # ReLU layer (should be AFTER batchnorm, IMO)\n",
    "    h1_relu = tf.nn.relu(h1_bn)    \n",
    "    # Max Pooling (2x2, S = 2), output is 13x13x32 because (26-2+1) / 2 = 13\n",
    "    #                                      N H W C            N H W C\n",
    "    h1_pool = tf.nn.max_pool(h1_relu, ksize=[1,2,2,1], strides=[1,2,2,1], padding='VALID')\n",
    "    \n",
    "    # (2) FC -> ReLU\n",
    "    W2 = tf.get_variable(\"W2\", shape=[5408, 1024])  # After max pooling: 13*13*32 = 5408\n",
    "    b2 = tf.get_variable(\"b2\", shape=[1024])\n",
    "    h1_pool_flat = tf.reshape(h1_pool, [-1, 5408])\n",
    "    # Affine (fully connected) layer (1024 output units)\n",
    "    h2_fc = tf.matmul(h1_pool_flat, W2) + b2\n",
    "    # ReLU layer\n",
    "    h2_relu = tf.nn.relu(h2_fc) \n",
    "    \n",
    "    # (3) FC (out)\n",
    "    W3 = tf.get_variable(\"W3\", shape=[1024, 10])\n",
    "    b3 = tf.get_variable(\"b3\", shape=[10])\n",
    "    # Affine layer (1024 input units -> 10 output units)\n",
    "    out = h3_fc = tf.matmul(h2_relu, W3) + b3\n",
    "    \n",
    "    return out\n",
    "\n",
    "y_out = complex_model(X,y,is_training)"
   ]
  },
  {
   "cell_type": "markdown",
   "metadata": {},
   "source": [
    "To make sure you're doing the right thing, use the following tool to check the dimensionality of your output (it should be 64 x 10, since our batches have size 64 and the output of the final affine layer should be 10, corresponding to our 10 classes):"
   ]
  },
  {
   "cell_type": "code",
   "execution_count": 27,
   "metadata": {
    "scrolled": false
   },
   "outputs": [
    {
     "name": "stdout",
     "output_type": "stream",
     "text": [
      "113 ms ± 4.41 ms per loop (mean ± std. dev. of 7 runs, 10 loops each)\n",
      "(64, 10)\n",
      "True\n"
     ]
    }
   ],
   "source": [
    "# Now we're going to feed a random batch into the model \n",
    "# and make sure the output is the right size\n",
    "x = np.random.randn(64, 32, 32,3)\n",
    "with tf.Session() as sess:\n",
    "    with tf.device(\"/cpu:0\"): #\"/cpu:0\" or \"/gpu:0\"\n",
    "        tf.global_variables_initializer().run()\n",
    "\n",
    "        ans = sess.run(y_out,feed_dict={X:x,is_training:True})\n",
    "        %timeit sess.run(y_out,feed_dict={X:x,is_training:True})\n",
    "        print(ans.shape)\n",
    "        print(np.array_equal(ans.shape, np.array([64, 10])))"
   ]
  },
  {
   "cell_type": "markdown",
   "metadata": {},
   "source": [
    "You should see the following from the run above \n",
    "\n",
    "`(64, 10)`\n",
    "\n",
    "`True`"
   ]
  },
  {
   "cell_type": "markdown",
   "metadata": {},
   "source": [
    "### GPU!\n",
    "\n",
    "Now, we're going to try and start the model under the GPU device, the rest of the code stays unchanged and all our variables and operations will be computed using accelerated code paths. However, if there is no GPU, we get a Python exception and have to rebuild our graph. On a dual-core CPU, you might see around 50-80ms/batch running the above, while the Google Cloud GPUs (run below) should be around 2-5ms/batch."
   ]
  },
  {
   "cell_type": "code",
   "execution_count": 29,
   "metadata": {},
   "outputs": [
    {
     "name": "stdout",
     "output_type": "stream",
     "text": [
      "110 ms ± 7.2 ms per loop (mean ± std. dev. of 7 runs, 10 loops each)\n"
     ]
    }
   ],
   "source": [
    "try:\n",
    "    with tf.Session() as sess:\n",
    "        with tf.device(\"/cpu:0\") as dev: #\"/cpu:0\" or \"/gpu:0\"\n",
    "            tf.global_variables_initializer().run()\n",
    "\n",
    "            ans = sess.run(y_out,feed_dict={X:x,is_training:True})\n",
    "            %timeit sess.run(y_out,feed_dict={X:x,is_training:True})\n",
    "except tf.errors.InvalidArgumentError:\n",
    "    print(\"no gpu found, please use Google Cloud if you want GPU acceleration\")    \n",
    "    # rebuild the graph\n",
    "    # trying to start a GPU throws an exception \n",
    "    # and also trashes the original graph\n",
    "    tf.reset_default_graph()\n",
    "    X = tf.placeholder(tf.float32, [None, 32, 32, 3])\n",
    "    y = tf.placeholder(tf.int64, [None])\n",
    "    is_training = tf.placeholder(tf.bool)\n",
    "    y_out = complex_model(X,y,is_training)"
   ]
  },
  {
   "cell_type": "markdown",
   "metadata": {},
   "source": [
    "You should observe that even a simple forward pass like this is significantly faster on the GPU. So for the rest of the assignment (and when you go train your models in assignment 3 and your project!), you should use GPU devices. However, with TensorFlow, the default device is a GPU if one is available, and a CPU otherwise, so we can skip the device specification from now on."
   ]
  },
  {
   "cell_type": "markdown",
   "metadata": {},
   "source": [
    "### Train the model.\n",
    "\n",
    "Now that you've seen how to define a model and do a single forward pass of some data through it, let's  walk through how you'd actually train one whole epoch over your training data (using the complex_model you created provided above).\n",
    "\n",
    "Make sure you understand how each TensorFlow function used below corresponds to what you implemented in your custom neural network implementation.\n",
    "\n",
    "First, set up an **RMSprop optimizer** (using a 1e-3 learning rate) and a **cross-entropy loss** function. See the TensorFlow documentation for more information\n",
    "* Layers, Activations, Loss functions : https://www.tensorflow.org/api_guides/python/nn\n",
    "* Optimizers: https://www.tensorflow.org/api_guides/python/train#Optimizers"
   ]
  },
  {
   "cell_type": "code",
   "execution_count": 35,
   "metadata": {},
   "outputs": [],
   "source": [
    "# Inputs\n",
    "#     y_out: is what your model computes\n",
    "#     y: is your TensorFlow variable with label information\n",
    "# Outputs\n",
    "#    mean_loss: a TensorFlow variable (scalar) with numerical loss\n",
    "#    optimizer: a TensorFlow optimizer\n",
    "# This should be ~3 lines of code!\n",
    "\n",
    "total_loss = tf.nn.softmax_cross_entropy_with_logits(labels=tf.one_hot(y,10), logits=y_out)\n",
    "mean_loss = tf.reduce_mean(total_loss)\n",
    "\n",
    "optimizer = tf.train.RMSPropOptimizer(1e-3)"
   ]
  },
  {
   "cell_type": "code",
   "execution_count": 36,
   "metadata": {
    "collapsed": true
   },
   "outputs": [],
   "source": [
    "# batch normalization in tensorflow requires this extra dependency\n",
    "extra_update_ops = tf.get_collection(tf.GraphKeys.UPDATE_OPS)\n",
    "with tf.control_dependencies(extra_update_ops):\n",
    "    train_step = optimizer.minimize(mean_loss)"
   ]
  },
  {
   "cell_type": "markdown",
   "metadata": {},
   "source": [
    "### Train the model\n",
    "Below we'll create a session and train the model over one epoch. You should see a loss of 1.4 to 2.0 and an accuracy of 0.4 to 0.5. There will be some variation due to random seeds and differences in initialization"
   ]
  },
  {
   "cell_type": "code",
   "execution_count": 37,
   "metadata": {},
   "outputs": [
    {
     "name": "stdout",
     "output_type": "stream",
     "text": [
      "Training\n",
      "Iteration 0: with minibatch training loss = 2.82 and accuracy of 0.16\n",
      "Iteration 100: with minibatch training loss = 2.31 and accuracy of 0.2\n",
      "Iteration 200: with minibatch training loss = 1.74 and accuracy of 0.42\n",
      "Iteration 300: with minibatch training loss = 1.53 and accuracy of 0.45\n",
      "Iteration 400: with minibatch training loss = 1.57 and accuracy of 0.41\n",
      "Iteration 500: with minibatch training loss = 1.29 and accuracy of 0.56\n",
      "Iteration 600: with minibatch training loss = 1.41 and accuracy of 0.52\n",
      "Iteration 700: with minibatch training loss = 1.38 and accuracy of 0.47\n",
      "Epoch 1, Overall loss = 1.67 and accuracy of 0.414\n"
     ]
    },
    {
     "data": {
      "text/plain": [
       "(1.6747796038997416, 0.41438775510204079)"
      ]
     },
     "execution_count": 37,
     "metadata": {},
     "output_type": "execute_result"
    }
   ],
   "source": [
    "sess = tf.Session()\n",
    "\n",
    "sess.run(tf.global_variables_initializer())\n",
    "print('Training')\n",
    "run_model(sess,y_out,mean_loss,X_train,y_train,1,64,100,train_step)"
   ]
  },
  {
   "cell_type": "markdown",
   "metadata": {},
   "source": [
    "### Check the accuracy of the model.\n",
    "\n",
    "Let's see the train and test code in action -- feel free to use these methods when evaluating the models you develop below. You should see a loss of 1.3 to 2.0 with an accuracy of 0.45 to 0.55."
   ]
  },
  {
   "cell_type": "code",
   "execution_count": 38,
   "metadata": {},
   "outputs": [
    {
     "name": "stdout",
     "output_type": "stream",
     "text": [
      "Validation\n",
      "Epoch 1, Overall loss = 1.43 and accuracy of 0.485\n"
     ]
    },
    {
     "data": {
      "text/plain": [
       "(1.4324859476089478, 0.48499999999999999)"
      ]
     },
     "execution_count": 38,
     "metadata": {},
     "output_type": "execute_result"
    }
   ],
   "source": [
    "print('Validation')\n",
    "run_model(sess,y_out,mean_loss,X_val,y_val,1,64)"
   ]
  },
  {
   "cell_type": "markdown",
   "metadata": {},
   "source": [
    "## Train a _great_ model on CIFAR-10!\n",
    "\n",
    "Now it's your job to experiment with architectures, hyperparameters, loss functions, and optimizers to train a model that achieves ** >= 70% accuracy on the validation set** of CIFAR-10. You can use the `run_model` function from above."
   ]
  },
  {
   "cell_type": "markdown",
   "metadata": {},
   "source": [
    "### Things you should try:\n",
    "- **Filter size**: Above we used 7x7; this makes pretty pictures but smaller filters may be more efficient\n",
    "- **Number of filters**: Above we used 32 filters. Do more or fewer do better?\n",
    "- **Pooling vs Strided Convolution**: Do you use max pooling or just stride convolutions?\n",
    "- **Batch normalization**: Try adding spatial batch normalization after convolution layers and vanilla batch normalization after affine layers. Do your networks train faster?\n",
    "- **Network architecture**: The network above has two layers of trainable parameters. Can you do better with a deep network? Good architectures to try include:\n",
    "    - [conv-relu-pool]xN -> [affine]xM -> [softmax or SVM]\n",
    "    - [conv-relu-conv-relu-pool]xN -> [affine]xM -> [softmax or SVM]\n",
    "    - [batchnorm-relu-conv]xN -> [affine]xM -> [softmax or SVM]\n",
    "- **Use TensorFlow Scope**: Use TensorFlow scope and/or [tf.layers](https://www.tensorflow.org/api_docs/python/tf/layers) to make it easier to write deeper networks. See [this tutorial](https://www.tensorflow.org/tutorials/layers) for how to use `tf.layers`. \n",
    "- **Use Learning Rate Decay**: [As the notes point out](http://cs231n.github.io/neural-networks-3/#anneal), decaying the learning rate might help the model converge. Feel free to decay every epoch, when loss doesn't change over an entire epoch, or any other heuristic you find appropriate. See the [Tensorflow documentation](https://www.tensorflow.org/versions/master/api_guides/python/train#Decaying_the_learning_rate) for learning rate decay.\n",
    "- **Global Average Pooling**: Instead of flattening and then having multiple affine layers, perform convolutions until your image gets small (7x7 or so) and then perform an average pooling operation to get to a 1x1 image picture (1, 1 , Filter#), which is then reshaped into a (Filter#) vector. This is used in [Google's Inception Network](https://arxiv.org/abs/1512.00567) (See Table 1 for their architecture).\n",
    "- **Regularization**: Add l2 weight regularization, or perhaps use [Dropout as in the TensorFlow MNIST tutorial](https://www.tensorflow.org/get_started/mnist/pros)\n",
    "\n",
    "### Tips for training\n",
    "For each network architecture that you try, you should tune the learning rate and regularization strength. When doing this there are a couple important things to keep in mind:\n",
    "\n",
    "- If the parameters are working well, you should see improvement within a few hundred iterations\n",
    "- Remember the coarse-to-fine approach for hyperparameter tuning: start by testing a large range of hyperparameters for just a few training iterations to find the combinations of parameters that are working at all.\n",
    "- Once you have found some sets of parameters that seem to work, search more finely around these parameters. You may need to train for more epochs.\n",
    "- You should use the validation set for hyperparameter search, and we'll save the test set for evaluating your architecture on the best parameters as selected by the validation set.\n",
    "\n",
    "### Going above and beyond\n",
    "If you are feeling adventurous there are many other features you can implement to try and improve your performance. You are **not required** to implement any of these; however they would be good things to try for extra credit.\n",
    "\n",
    "- Alternative update steps: For the assignment we implemented SGD+momentum, RMSprop, and Adam; you could try alternatives like AdaGrad or AdaDelta.\n",
    "- Alternative activation functions such as leaky ReLU, parametric ReLU, ELU, or MaxOut.\n",
    "- Model ensembles\n",
    "- Data augmentation\n",
    "- New Architectures\n",
    "  - [ResNets](https://arxiv.org/abs/1512.03385) where the input from the previous layer is added to the output.\n",
    "  - [DenseNets](https://arxiv.org/abs/1608.06993) where inputs into previous layers are concatenated together.\n",
    "  - [This blog has an in-depth overview](https://chatbotslife.com/resnets-highwaynets-and-densenets-oh-my-9bb15918ee32)\n",
    "\n",
    "If you do decide to implement something extra, clearly describe it in the \"Extra Credit Description\" cell below.\n",
    "\n",
    "### What we expect\n",
    "At the very least, you should be able to train a ConvNet that gets at **>= 70% accuracy on the validation set**. This is just a lower bound - if you are careful it should be possible to get accuracies much higher than that! Extra credit points will be awarded for particularly high-scoring models or unique approaches.\n",
    "\n",
    "You should use the space below to experiment and train your network. The final cell in this notebook should contain the training and validation set accuracies for your final trained network.\n",
    "\n",
    "Have fun and happy training!"
   ]
  },
  {
   "cell_type": "code",
   "execution_count": 207,
   "metadata": {
    "collapsed": true
   },
   "outputs": [],
   "source": [
    "# Hyperparameters generation function\n",
    "\n",
    "def hyperparameters(gen_fns, fn_args, num):\n",
    "    \"\"\"Hyperparameter generator.\n",
    "    \n",
    "    Args:\n",
    "        gen_fns: Generator functions\n",
    "        fn_args: Arguments of gen_fns\n",
    "        num: Number of iterations\n",
    "    \n",
    "    Returns:\n",
    "        Tuple of hyperparameters\n",
    "    \"\"\"\n",
    "    \n",
    "    for _ in range(num):\n",
    "        yield tuple(fn(*params) for (fn, params) in zip(gen_fns, fn_args))"
   ]
  },
  {
   "cell_type": "code",
   "execution_count": 233,
   "metadata": {},
   "outputs": [],
   "source": [
    "# Modifying model running function\n",
    "\n",
    "def run_my_model(session, predict, loss_val,\n",
    "                 Xd, yd, Xv=None, yv=None,\n",
    "                 epochs=1, batch_size=64, print_every=100,\n",
    "                 plot_losses=False, val_every_epoch=False,\n",
    "                 training=None, lr=1e-3, reg=1e-4):\n",
    "    \n",
    "    # Cast hyperparameters to the correct type\n",
    "    #learning_rate = tf.cast(learning_rate, tf.float32)\n",
    "    #reg_strength = tf.cast(reg_strength, tf.float32)\n",
    "    \n",
    "    # have tensorflow compute accuracy\n",
    "    correct_prediction = tf.equal(tf.argmax(y_out, 1), y)\n",
    "    accuracy = tf.reduce_mean(tf.cast(correct_prediction, tf.float32))\n",
    "    \n",
    "    # shuffle indicies\n",
    "    train_indicies = np.arange(len(Xd))\n",
    "    np.random.shuffle(train_indicies)\n",
    "    \n",
    "    training_now = training is not None\n",
    "    \n",
    "    # setting up variables we want to compute (and optimizing)\n",
    "    # if we have a training function, add that to things we compute\n",
    "    variables = [loss_val, correct_prediction, accuracy]\n",
    "    if training_now:\n",
    "        variables[-1] = training\n",
    "    \n",
    "    # Storing training/validation loss and accuracy every epoch\n",
    "    train_hist = {'loss': [], 'acc': []}\n",
    "    if val_every_epoch:\n",
    "        val_hist = {'loss': [], 'acc': []}\n",
    "    else:\n",
    "        val_hist = None\n",
    "    \n",
    "    # counter    \n",
    "    for e in range(epochs):\n",
    "        # keep track of losses and accuracy\n",
    "        correct = []\n",
    "        losses = []\n",
    "        \n",
    "        # make sure we iterate over the dataset once\n",
    "        num_batches = int(math.ceil(len(Xd) / batch_size))\n",
    "        for i in range(num_batches):\n",
    "            # generate indicies for the batch\n",
    "            start_idx = (i*batch_size) % len(Xd)\n",
    "            idxs = train_indicies[start_idx:start_idx+batch_size]\n",
    "            \n",
    "            # create a feed dictionary for this batch\n",
    "            feed_dict = {X: Xd[idxs, ...],\n",
    "                         y: yd[idxs],\n",
    "                         is_training: training_now,\n",
    "                         learning_rate: lr,\n",
    "                         reg_strength: reg}\n",
    "            # get batch size\n",
    "            actual_batch_size = len(yd[idxs])\n",
    "            \n",
    "            # have tensorflow compute loss and correct predictions\n",
    "            # and (if given) perform a training step\n",
    "            loss, corr, _ = session.run(variables,feed_dict=feed_dict)\n",
    "            \n",
    "            # aggregate performance stats\n",
    "            losses.append(loss)#*actual_batch_size)\n",
    "            correct.append(np.sum(corr))\n",
    "            \n",
    "            # print every now and then\n",
    "            if training_now and (i % print_every) == 0:\n",
    "                print(\"Iteration {0}: with minibatch training loss = {1:.3g} and accuracy of {2:.2g}\"\\\n",
    "                      .format(i, loss, np.sum(corr) / actual_batch_size))\n",
    "            \n",
    "        total_correct = np.sum(correct) / len(Xd)\n",
    "        total_loss    = np.sum(losses) / num_batches\n",
    "        \n",
    "        train_hist['loss'].append(total_loss)\n",
    "        train_hist['acc'].append(total_correct)\n",
    "        \n",
    "        print(\"Epoch {0} training: Overall avg loss: {1:.3g} | Accuracy: {2:.3g}\"\\\n",
    "              .format(e+1, total_loss, total_correct))\n",
    "        \n",
    "        if plot_losses:\n",
    "            plt.plot(np.array(losses))\n",
    "            plt.grid(True)\n",
    "            plt.title('Epoch {} Loss'.format(e+1))\n",
    "            plt.xlabel('minibatch number')\n",
    "            plt.ylabel('minibatch loss')\n",
    "            plt.show()\n",
    "            \n",
    "        if val_every_epoch:\n",
    "            val_variables = [loss_val, correct_prediction, accuracy]\n",
    "            val_feed_dict = {X: Xv,\n",
    "                            y: yv,\n",
    "                            is_training: False,\n",
    "                            learning_rate: lr,\n",
    "                            reg_strength: reg}\n",
    "            val_loss, val_corr, val_acc = session.run(val_variables, feed_dict=val_feed_dict)\n",
    "            val_hist['loss'].append(val_loss)\n",
    "            val_hist['acc'].append(val_acc)\n",
    "            print(\"Validation on epoch {0}: Loss: {1:.3g} | Accuracy: {2:.3g}\\n\"\\\n",
    "                  .format(e+1, val_loss, val_acc))\n",
    "            \n",
    "    return train_hist, val_hist"
   ]
  },
  {
   "cell_type": "code",
   "execution_count": 234,
   "metadata": {
    "scrolled": true
   },
   "outputs": [
    {
     "name": "stdout",
     "output_type": "stream",
     "text": [
      "h1 shape:  (?, 28, 28, 32)\n",
      "h2 shape:  (?, 28, 28, 64)\n",
      "h3 shape:  (?, 14, 14, 64)\n",
      "h4 shape:  (?, 7, 7, 128)\n",
      "h5 shape:  (?, 1, 1, 128)  flattened:  (?, 128)\n",
      "out shape:  (?, 10)\n"
     ]
    }
   ],
   "source": [
    "# Feel free to play with this cell\n",
    "\n",
    "def my_model(X, y, is_training, reg_strength=1e-4):\n",
    "    '''My model with the following architecture:\n",
    "    1. Conv (5x5x32, S=1) - BN - ReLU\n",
    "    2. Conv (3x3x64, S=1) - BN - ReLU\n",
    "    3. Pool (2x2, S=2)\n",
    "    4. Conv (3x3x128, S=2) - BN - ReLU\n",
    "    5. AvgPool (7x7, S=1)\n",
    "    6. Affine (10)\n",
    "    '''\n",
    "        \n",
    "    regularizer = tf.contrib.layers.l2_regularizer(reg_strength)\n",
    "    \n",
    "    # (1) Conv (7x7x32, S=2) - BN - ReLU | Output shape (N, 28, 28, 32)\n",
    "    h1_conv = tf.layers.conv2d(inputs=X, filters=32, padding='VALID', kernel_size=5, strides=1,\n",
    "                               activation=None, kernel_regularizer=regularizer)\n",
    "    h1_bn   = tf.layers.batch_normalization(inputs=h1_conv, training=is_training)\n",
    "    h1      = tf.nn.relu(h1_bn)\n",
    "    print(\"h1 shape: \", h1.shape)\n",
    "    \n",
    "    # (2) Conv (3x3x64, S=1) - BN - ReLU | Output shape (N, 28, 28, 64)\n",
    "    h2_conv = tf.layers.conv2d(inputs=h1, filters=64, padding='SAME', kernel_size=3, strides=1,\n",
    "                               activation=None, kernel_regularizer=regularizer)\n",
    "    h2_bn   = tf.layers.batch_normalization(inputs=h2_conv, training=is_training)\n",
    "    h2      = tf.nn.relu(h2_bn)\n",
    "    print(\"h2 shape: \", h2.shape)\n",
    "    \n",
    "    # (3) Pool (2x2, S=2) | Output shape (N, 14, 14, 64)\n",
    "    h3 = tf.layers.max_pooling2d(inputs=h2, pool_size=2, strides=2, padding='VALID')\n",
    "    print(\"h3 shape: \", h3.shape)\n",
    "    \n",
    "    # (4) Conv (3x3x128, S=2) - BN - ReLU | Output shape (N, 7, 7, 128)\n",
    "    h4_conv = tf.layers.conv2d(inputs=h3, filters=128, padding='SAME', kernel_size=3, strides=2,\n",
    "                               activation=None, kernel_regularizer=regularizer)\n",
    "    h4_bn   = tf.layers.batch_normalization(inputs=h4_conv, training=is_training)\n",
    "    h4      = tf.nn.relu(h4_bn)\n",
    "    print(\"h4 shape: \", h4.shape)\n",
    "    \n",
    "    # (5) AvgPool (7x7, S=1) | Output shape (N, 1, 1, 128)\n",
    "    h5 = tf.layers.average_pooling2d(inputs=h4, pool_size=7, strides=1, padding='VALID')\n",
    "    h5_flat = tf.reshape(h5, [-1, 128])\n",
    "    print(\"h5 shape: \", h5.shape, \" flattened: \", h5_flat.shape)\n",
    "    \n",
    "    \n",
    "    # (6) Affine layer (hidden size 10)\n",
    "    out = tf.layers.dense(inputs=h5_flat, units=10, activation=None)\n",
    "    print(\"out shape: \", out.shape)\n",
    "    \n",
    "    return out\n",
    "    \n",
    "\n",
    "tf.reset_default_graph()\n",
    "\n",
    "X = tf.placeholder(tf.float32, [None, 32, 32, 3])\n",
    "y = tf.placeholder(tf.int64, [None])\n",
    "is_training = tf.placeholder(tf.bool)\n",
    "# Hyperparameters\n",
    "learning_rate = tf.placeholder(tf.float32, shape=())\n",
    "reg_strength = tf.placeholder(tf.float32, shape=())\n",
    "\n",
    "y_out = my_model(X, y, is_training, reg_strength)\n",
    "mean_loss = tf.losses.softmax_cross_entropy(onehot_labels=tf.one_hot(y,10), logits=y_out)\n",
    "optimizer = tf.train.AdamOptimizer(learning_rate=learning_rate)\n",
    "\n",
    "# batch normalization in tensorflow requires this extra dependency\n",
    "extra_update_ops = tf.get_collection(tf.GraphKeys.UPDATE_OPS)\n",
    "with tf.control_dependencies(extra_update_ops):\n",
    "    train_step = optimizer.minimize(mean_loss)"
   ]
  },
  {
   "cell_type": "code",
   "execution_count": 236,
   "metadata": {
    "scrolled": false
   },
   "outputs": [
    {
     "name": "stdout",
     "output_type": "stream",
     "text": [
      "Small subset size:\n",
      "X: (2450, 32, 32, 3)\n",
      "y: (2450,)\n",
      "\n",
      "Training\n",
      "\n",
      "--------------------------------------------------------------------------------\n",
      "Hyperparameters 1/2: lr = 1.00e-04 | reg = 1.00e-05\n",
      "--------------------------------------------------------------------------------\n",
      "Iteration 0: with minibatch training loss = 2.36 and accuracy of 0.14\n",
      "Iteration 10: with minibatch training loss = 2.29 and accuracy of 0.12\n",
      "Iteration 20: with minibatch training loss = 2.15 and accuracy of 0.27\n",
      "Iteration 30: with minibatch training loss = 2.05 and accuracy of 0.27\n",
      "Epoch 1 training: Overall avg loss: 2.25 | Accuracy: 0.196\n"
     ]
    },
    {
     "data": {
      "image/png": "[encoded data removed]",
      "text/plain": [
       "<matplotlib.figure.Figure at 0x5e443470>"
      ]
     },
     "metadata": {},
     "output_type": "display_data"
    },
    {
     "name": "stdout",
     "output_type": "stream",
     "text": [
      "Validation on epoch 1: Loss: 2.15 | Accuracy: 0.201\n",
      "\n",
      "Iteration 0: with minibatch training loss = 2.04 and accuracy of 0.17\n",
      "Iteration 10: with minibatch training loss = 2.14 and accuracy of 0.17\n",
      "Iteration 20: with minibatch training loss = 2.03 and accuracy of 0.23\n",
      "Iteration 30: with minibatch training loss = 1.97 and accuracy of 0.27\n",
      "Epoch 2 training: Overall avg loss: 2.08 | Accuracy: 0.243\n"
     ]
    },
    {
     "data": {
      "image/png": "[encoded data removed]",
      "text/plain": [
       "<matplotlib.figure.Figure at 0x5e639518>"
      ]
     },
     "metadata": {},
     "output_type": "display_data"
    },
    {
     "name": "stdout",
     "output_type": "stream",
     "text": [
      "Validation on epoch 2: Loss: 2.15 | Accuracy: 0.201\n",
      "\n",
      "--------------------------------------------------------------------------------\n",
      "Hyperparameters 2/2: lr = 1.00e-04 | reg = 1.00e+00\n",
      "--------------------------------------------------------------------------------\n",
      "Iteration 0: with minibatch training loss = 2.14 and accuracy of 0.14\n",
      "Iteration 10: with minibatch training loss = 2 and accuracy of 0.28\n",
      "Iteration 20: with minibatch training loss = 2.02 and accuracy of 0.31\n",
      "Iteration 30: with minibatch training loss = 2.12 and accuracy of 0.23\n",
      "Epoch 1 training: Overall avg loss: 2 | Accuracy: 0.274\n"
     ]
    },
    {
     "data": {
      "image/png": "[encoded data removed]",
      "text/plain": [
       "<matplotlib.figure.Figure at 0x5c7eb1d0>"
      ]
     },
     "metadata": {},
     "output_type": "display_data"
    },
    {
     "name": "stdout",
     "output_type": "stream",
     "text": [
      "Validation on epoch 1: Loss: 2.06 | Accuracy: 0.237\n",
      "\n",
      "Iteration 0: with minibatch training loss = 2 and accuracy of 0.22\n",
      "Iteration 10: with minibatch training loss = 1.9 and accuracy of 0.33\n",
      "Iteration 20: with minibatch training loss = 1.92 and accuracy of 0.38\n",
      "Iteration 30: with minibatch training loss = 2.06 and accuracy of 0.2\n",
      "Epoch 2 training: Overall avg loss: 1.92 | Accuracy: 0.319\n"
     ]
    },
    {
     "data": {
      "image/png": "[encoded data removed]",
      "text/plain": [
       "<matplotlib.figure.Figure at 0x5c5f7400>"
      ]
     },
     "metadata": {},
     "output_type": "display_data"
    },
    {
     "name": "stdout",
     "output_type": "stream",
     "text": [
      "Validation on epoch 2: Loss: 2.06 | Accuracy: 0.237\n",
      "\n",
      "\n",
      "Best hyperparameters: lr = 1.00e-04, reg = 1.00e+00 with accuracy 0.237\n",
      "Validation\n",
      "It took 105.062505s\n"
     ]
    }
   ],
   "source": [
    "# Smaller random subset for rapid training\n",
    "idxs = np.random.randint(0, len(X_train), len(X_train)//20)\n",
    "X_train_small = X_train[idxs, ...]\n",
    "y_train_small = y_train[idxs, ...]\n",
    "\n",
    "print(\"Small subset size:\")\n",
    "print(\"X:\", X_train_small.shape)\n",
    "print(\"y:\", y_train_small.shape)\n",
    "print(\"\")\n",
    "\n",
    "# Coarse search ranges\n",
    "learn_rates   = np.logspace(-4, 0, 1)  # 10^(-4 to 0)\n",
    "reg_strengths = np.logspace(-5, 0, 2)  # 10^(-5 to 0)\n",
    "num_combs = len(learn_rates) * len(reg_strengths)\n",
    "\n",
    "import itertools\n",
    "from time import time\n",
    "\n",
    "t0 = time()\n",
    "with tf.Session() as sess:\n",
    "    sess.run(tf.global_variables_initializer())\n",
    "    train_hists = {}\n",
    "    val_hists = {}\n",
    "    best_acc = 0.0\n",
    "    best_hyps = ()\n",
    "    print('Training\\n')\n",
    "    # Iterate through all hyperparameters combinations\n",
    "    for i, (lr, reg) in enumerate(itertools.product(learn_rates, reg_strengths)):\n",
    "        print('-' * 80)\n",
    "        print(\"Hyperparameters {}/{}: lr = {:.2e} | reg = {:.2e}\".format(i+1, num_combs, lr, reg))\n",
    "        print('-' * 80)\n",
    "        train_hist, val_hist = run_my_model(sess, y_out, mean_loss,\n",
    "                                            X_train_small, y_train_small, X_val, y_val,\n",
    "                                            epochs=2, batch_size=64, print_every=10,\n",
    "                                            plot_losses=True, val_every_epoch=True,\n",
    "                                            training=train_step, lr=lr, reg=reg)\n",
    "        train_hists[(lr, reg)] = train_hist\n",
    "        if val_hist:\n",
    "            val_hists[(lr, reg)] = val_hist\n",
    "            if val_hist['acc'][-1] > best_acc:\n",
    "                best_hyps = (lr, reg)\n",
    "                best_acc = val_hist['acc'][-1]\n",
    "    \n",
    "    print(\"\\nBest hyperparameters: lr = {:.2e}, reg = {:.2e} with accuracy {:.3g}\"\\\n",
    "          .format(best_hyps[0], best_hyps[1], best_acc))\n",
    "    \n",
    "    print('Validation')\n",
    "    #run_my_model(sess, y_out, mean_loss, X_train_small, y_train_small,\n",
    "    #             epochs=1, batch_size=64, print_every=10,\n",
    "    #             plot_losses=False, val_every_epoch=False,\n",
    "    #             training=None, learning_rate=best_lr, reg_strength=best_reg)\n",
    "t1 = time()\n",
    "\n",
    "print(\"It took %fs\" % (t1 - t0))"
   ]
  },
  {
   "cell_type": "code",
   "execution_count": null,
   "metadata": {
    "collapsed": true
   },
   "outputs": [],
   "source": [
    "# Feel free to play with this cell\n",
    "# This default code creates a session\n",
    "# and trains your model for 10 epochs\n",
    "# then prints the validation set accuracy\n",
    "sess = tf.Session()\n",
    "\n",
    "sess.run(tf.global_variables_initializer())\n",
    "print('Training')\n",
    "run_model(sess,y_out,mean_loss,X_train,y_train,10,64,100,train_step,True)\n",
    "print('Validation')\n",
    "run_model(sess,y_out,mean_loss,X_val,y_val,1,64)"
   ]
  },
  {
   "cell_type": "code",
   "execution_count": null,
   "metadata": {
    "collapsed": true
   },
   "outputs": [],
   "source": [
    "# Test your model here, and make sure \n",
    "# the output of this cell is the accuracy\n",
    "# of your best model on the training and val sets\n",
    "# We're looking for >= 70% accuracy on Validation\n",
    "print('Training')\n",
    "run_my_model(sess,y_out,mean_loss,X_train,y_train,1,64)\n",
    "print('Validation')\n",
    "run_my_model(sess,y_out,mean_loss,X_val,y_val,1,64)"
   ]
  },
  {
   "cell_type": "markdown",
   "metadata": {},
   "source": [
    "### Describe what you did here\n",
    "In this cell you should also write an explanation of what you did, any additional features that you implemented, and any visualizations or graphs that you make in the process of training and evaluating your network"
   ]
  },
  {
   "cell_type": "markdown",
   "metadata": {},
   "source": [
    "_Tell us here_"
   ]
  },
  {
   "cell_type": "markdown",
   "metadata": {},
   "source": [
    "### Test Set - Do this only once\n",
    "Now that we've gotten a result that we're happy with, we test our final model on the test set. This would be the score we would achieve on a competition. Think about how this compares to your validation set accuracy."
   ]
  },
  {
   "cell_type": "code",
   "execution_count": null,
   "metadata": {
    "collapsed": true
   },
   "outputs": [],
   "source": [
    "print('Test')\n",
    "run_model(sess,y_out,mean_loss,X_test,y_test,1,64)"
   ]
  },
  {
   "cell_type": "markdown",
   "metadata": {},
   "source": [
    "## Going further with TensorFlow\n",
    "\n",
    "The next assignment will make heavy use of TensorFlow. You might also find it useful for your projects. \n"
   ]
  },
  {
   "cell_type": "markdown",
   "metadata": {},
   "source": [
    "# Extra Credit Description\n",
    "If you implement any additional features for extra credit, clearly describe them here with pointers to any code in this or other files if applicable."
   ]
  }
 ],
 "metadata": {
  "kernelspec": {
   "display_name": "Python 3",
   "language": "python",
   "name": "python3"
  },
  "language_info": {
   "codemirror_mode": {
    "name": "ipython",
    "version": 3
   },
   "file_extension": ".py",
   "mimetype": "text/x-python",
   "name": "python",
   "nbconvert_exporter": "python",
   "pygments_lexer": "ipython3",
   "version": "3.6.3"
  }
 },
 "nbformat": 4,
 "nbformat_minor": 1
}
